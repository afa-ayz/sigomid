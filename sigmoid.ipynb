{
 "cells": [
  {
   "cell_type": "code",
   "execution_count": 1,
   "metadata": {},
   "outputs": [
    {
     "name": "stdout",
     "output_type": "stream",
     "text": [
      "[[-0.16595599  0.44064899 -0.99977125 -0.39533485]\n",
      " [-0.70648822 -0.81532281 -0.62747958 -0.30887855]\n",
      " [-0.20646505  0.07763347 -0.16161097  0.370439  ]]\n",
      "\n",
      "[[-0.5910955 ]\n",
      " [ 0.75623487]\n",
      " [-0.94522481]\n",
      " [ 0.34093502]]\n",
      "error0.48284186673660995\n",
      "error0.007820889330652888\n",
      "error0.0054311710655766945\n",
      "error0.004400035236395131\n",
      "error0.0037928556474472763\n",
      "error0.003381610456198623\n"
     ]
    }
   ],
   "source": [
    "import numpy as np\n",
    "import math\n",
    "\n",
    "def sigmoid(x, deriv=False):\n",
    "    if (deriv):\n",
    "        return x * (1 - x)\n",
    "    return 1 / (1 + np.exp(-x))\n",
    "\n",
    "# 样本数据\n",
    "x = np.array([\n",
    "    [0, 0, 1],\n",
    "    [0, 1, 1],\n",
    "    [1, 0, 1],\n",
    "    [1, 0, 0],\n",
    "    [1, 1, 1]\n",
    "])\n",
    "# 真实值\n",
    "y = np.array([\n",
    "    [0],\n",
    "    [1],\n",
    "    [1],\n",
    "    [0],\n",
    "    [1],\n",
    "])\n",
    "# 随机种子\n",
    "np.random.seed(1)\n",
    "# 定义三层的神经网络\n",
    "w0 = 2 * np.random.random((3, 4)) - 1  # 第一层的权重(-1,1)\n",
    "w1 = 2 * np.random.random((4, 1)) - 1  # 第二层的权重(-1,1)\n",
    "print(w0)\n",
    "print()\n",
    "print(w1)\n",
    "for j in range(60000):\n",
    "    l0 = x\n",
    "    l1 = sigmoid(np.dot(l0,w0)) #矩阵乘法后走激活函数\n",
    "    l2 = sigmoid(np.dot(l1,w1))\n",
    "    #误差项 ---- 真实和计算的误差值用来优化\n",
    "    l2_error = y - l2\n",
    "\n",
    "    if j % 10000 == 0:\n",
    "        print('error'+str(np.mean(abs(l2_error))))\n",
    "    #反向传播更新权重w0,w1\n",
    "    l2_delta = l2_error * sigmoid(l2,deriv=True)\n",
    "    l1_error = l2_delta.dot(w1.T)\n",
    "    l1_delta = l1_error * sigmoid(l1,deriv=True)\n",
    "    # 梯度下降,更新权重看w1,w2错多少\n",
    "    w1 += l1.T.dot(l2_delta)\n",
    "    w0 += l0.T.dot(l1_delta)"
   ]
  },
  {
   "cell_type": "code",
   "execution_count": null,
   "metadata": {
    "collapsed": true
   },
   "outputs": [],
   "source": []
  }
 ],
 "metadata": {
  "kernelspec": {
   "display_name": "Python 3",
   "language": "python",
   "name": "python3"
  },
  "language_info": {
   "codemirror_mode": {
    "name": "ipython",
    "version": 3
   },
   "file_extension": ".py",
   "mimetype": "text/x-python",
   "name": "python",
   "nbconvert_exporter": "python",
   "pygments_lexer": "ipython3",
   "version": "3.6.4"
  }
 },
 "nbformat": 4,
 "nbformat_minor": 2
}
